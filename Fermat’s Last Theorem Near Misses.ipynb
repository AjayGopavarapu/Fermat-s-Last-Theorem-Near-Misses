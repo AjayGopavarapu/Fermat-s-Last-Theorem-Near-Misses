{
 "cells": [
  {
   "cell_type": "code",
   "execution_count": 4,
   "id": "e06caa18",
   "metadata": {},
   "outputs": [
    {
     "name": "stdout",
     "output_type": "stream",
     "text": [
      "Welcome to Fermat's Last Theorem Near Miss Finder\n",
      "Enter a value for n (3 <= n <= 11): 4\n",
      "Enter a value for k (k > 10): 8\n",
      "k must be greater than 10.\n",
      "Enter a value for k (k > 10): 11\n",
      "x=10, y=10, z=11, absolute_miss=736, relative_miss=3.680000%\n",
      "x=11, y=11, z=13, absolute_miss=721, relative_miss=2.462264%\n",
      "Smallest miss: x=11, y=11, z=13, relative_miss=2.462264%\n"
     ]
    }
   ],
   "source": [
    "import math\n",
    "\n",
    "# Function to find near misses\n",
    "def find_near_misses(n, k):\n",
    "    min_relative_miss = float('inf')\n",
    "    best_x, best_y, best_z = None, None, None\n",
    "\n",
    "    # Iterate over x and y values\n",
    "    for x in range(10, k + 1):\n",
    "        for y in range(10, k + 1):\n",
    "            lhs = x**n + y**n  # Calculate x^n + y^n\n",
    "\n",
    "            # Find z such that z^n <= lhs < (z+1)^n\n",
    "            z = int(math.pow(lhs, 1/n))  # Closest integer z\n",
    "\n",
    "            # Calculate absolute misses\n",
    "            miss1 = abs(lhs - z**n)\n",
    "            miss2 = abs((z + 1)**n - lhs)\n",
    "\n",
    "            # Find the smaller miss and calculate relative miss\n",
    "            absolute_miss = min(miss1, miss2)\n",
    "            relative_miss = absolute_miss / lhs  # Relative size of the miss\n",
    "\n",
    "            # Print when a smaller miss is found\n",
    "            if relative_miss < min_relative_miss:\n",
    "                min_relative_miss = relative_miss\n",
    "                best_x, best_y, best_z = x, y, z\n",
    "                print(f\"x={x}, y={y}, z={z}, absolute_miss={absolute_miss}, relative_miss={relative_miss*100:.6f}%\")\n",
    "    \n",
    "    # Final result\n",
    "    print(f\"Smallest miss: x={best_x}, y={best_y}, z={best_z}, relative_miss={min_relative_miss*100:.6f}%\")\n",
    "\n",
    "# Main function to get user input\n",
    "def main():\n",
    "    print(\"Welcome to Fermat's Last Theorem Near Miss Finder\")\n",
    "\n",
    "    # Input validation for n and k\n",
    "    while True:\n",
    "        try:\n",
    "            n = int(input(\"Enter a value for n (3 <= n <= 11): \"))\n",
    "            if 3 <= n <= 11:\n",
    "                break\n",
    "            else:\n",
    "                print(\"n must be between 3 and 11.\")\n",
    "        except ValueError:\n",
    "            print(\"Please enter an integer.\")\n",
    "\n",
    "    while True:\n",
    "        try:\n",
    "            k = int(input(\"Enter a value for k (k > 10): \"))\n",
    "            if k > 10:\n",
    "                break\n",
    "            else:\n",
    "                print(\"k must be greater than 10.\")\n",
    "        except ValueError:\n",
    "            print(\"Please enter an integer.\")\n",
    "\n",
    "    # Call the function to find near misses\n",
    "    find_near_misses(n, k)\n",
    "\n",
    "# Run the program\n",
    "if __name__ == \"__main__\":\n",
    "    main()\n"
   ]
  },
  {
   "cell_type": "code",
   "execution_count": null,
   "id": "944f058d",
   "metadata": {},
   "outputs": [],
   "source": []
  }
 ],
 "metadata": {
  "kernelspec": {
   "display_name": "Python 3 (ipykernel)",
   "language": "python",
   "name": "python3"
  },
  "language_info": {
   "codemirror_mode": {
    "name": "ipython",
    "version": 3
   },
   "file_extension": ".py",
   "mimetype": "text/x-python",
   "name": "python",
   "nbconvert_exporter": "python",
   "pygments_lexer": "ipython3",
   "version": "3.11.4"
  }
 },
 "nbformat": 4,
 "nbformat_minor": 5
}
